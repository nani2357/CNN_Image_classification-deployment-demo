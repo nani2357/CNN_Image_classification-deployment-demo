{
 "cells": [
  {
   "cell_type": "code",
   "execution_count": 1,
   "metadata": {},
   "outputs": [],
   "source": [
    "import tensorflow as tf\n",
    "from tensorflow import keras\n",
    "from keras.models import Sequential\n",
    "from keras.layers import Conv2D\n",
    "from keras.layers import MaxPooling2D\n",
    "from keras.layers import Flatten, BatchNormalization, Dropout\n",
    "from keras.layers import Dense\n",
    "from keras.preprocessing.image import ImageDataGenerator\n",
    "import os\n",
    "import random\n",
    "import numpy as np"
   ]
  },
  {
   "cell_type": "code",
   "execution_count": 2,
   "metadata": {},
   "outputs": [],
   "source": [
    "# Initialising the CNN\n",
    "classifier = Sequential()"
   ]
  },
  {
   "cell_type": "code",
   "execution_count": 3,
   "metadata": {},
   "outputs": [],
   "source": [
    "# Step 1 - Convolution\n",
    "classifier.add(Conv2D(32,(3,3), input_shape=(64,64,3), activation='relu'))\n",
    "#classifier.add(BatchNormalization())\n",
    "classifier.add(Conv2D(64,(3,3), activation='relu'))\n",
    "classifier.add(MaxPooling2D(pool_size=(2,2)))\n",
    "#classifier.add(BatchNormalization())\n",
    "classifier.add(Conv2D(32,(3,3), activation='relu'))\n",
    "classifier.add(MaxPooling2D(pool_size=(2,2)))\n",
    "classifier.add(Flatten())\n",
    "classifier.add(Dense(units = 128, activation ='relu'))\n",
    "#classifier.add(BatchNormalization())\n",
    "#classifier.add(Dropout(0.3))\n",
    "classifier.add(Dense(units=1, activation='sigmoid'))"
   ]
  },
  {
   "cell_type": "code",
   "execution_count": 4,
   "metadata": {},
   "outputs": [
    {
     "name": "stdout",
     "output_type": "stream",
     "text": [
      "Model: \"sequential\"\n",
      "_________________________________________________________________\n",
      " Layer (type)                Output Shape              Param #   \n",
      "=================================================================\n",
      " conv2d (Conv2D)             (None, 62, 62, 32)        896       \n",
      "                                                                 \n",
      " conv2d_1 (Conv2D)           (None, 60, 60, 64)        18496     \n",
      "                                                                 \n",
      " max_pooling2d (MaxPooling2  (None, 30, 30, 64)        0         \n",
      " D)                                                              \n",
      "                                                                 \n",
      " conv2d_2 (Conv2D)           (None, 28, 28, 32)        18464     \n",
      "                                                                 \n",
      " max_pooling2d_1 (MaxPoolin  (None, 14, 14, 32)        0         \n",
      " g2D)                                                            \n",
      "                                                                 \n",
      " flatten (Flatten)           (None, 6272)              0         \n",
      "                                                                 \n",
      " dense (Dense)               (None, 128)               802944    \n",
      "                                                                 \n",
      " dense_1 (Dense)             (None, 1)                 129       \n",
      "                                                                 \n",
      "=================================================================\n",
      "Total params: 840929 (3.21 MB)\n",
      "Trainable params: 840929 (3.21 MB)\n",
      "Non-trainable params: 0 (0.00 Byte)\n",
      "_________________________________________________________________\n"
     ]
    }
   ],
   "source": [
    "classifier.summary()"
   ]
  },
  {
   "cell_type": "code",
   "execution_count": 5,
   "metadata": {},
   "outputs": [],
   "source": [
    "classifier.compile(optimizer='adam', loss='binary_crossentropy', metrics=['accuracy'])"
   ]
  },
  {
   "cell_type": "code",
   "execution_count": 6,
   "metadata": {},
   "outputs": [],
   "source": [
    "base_dir = r'E:\\DATA\\dog_cat_CNN\\train'\n",
    "dog_dir = os.path.join(base_dir, 'dog')\n",
    "cat_dir = os.path.join(base_dir, 'cat')"
   ]
  },
  {
   "cell_type": "code",
   "execution_count": 7,
   "metadata": {},
   "outputs": [],
   "source": [
    "# Get all dog and cat image filenames\n",
    "all_dog_images = os.listdir(dog_dir)\n",
    "all_cat_images = os.listdir(cat_dir)\n",
    "\n",
    "# Shuffle the lists\n",
    "random.shuffle(all_dog_images)\n",
    "random.shuffle(all_cat_images)"
   ]
  },
  {
   "cell_type": "code",
   "execution_count": 8,
   "metadata": {},
   "outputs": [],
   "source": [
    "# Select the first 20% of the shuffled list\n",
    "selected_dog_images = all_dog_images[:int(len(all_dog_images) * 0.3)]\n",
    "selected_cat_images = all_cat_images[:int(len(all_cat_images) * 0.3)]"
   ]
  },
  {
   "cell_type": "code",
   "execution_count": 9,
   "metadata": {},
   "outputs": [],
   "source": [
    "# Define new directories for the selected subset\n",
    "subset_base_dir = r'E:\\DATA\\dog_cat_CNN\\subset_train'\n",
    "subset_dog_dir = os.path.join(subset_base_dir, 'dog')\n",
    "subset_cat_dir = os.path.join(subset_base_dir, 'cat')\n",
    "\n",
    "# Create the directories if they don't exist\n",
    "os.makedirs(subset_dog_dir, exist_ok=True)\n",
    "os.makedirs(subset_cat_dir, exist_ok=True)"
   ]
  },
  {
   "cell_type": "code",
   "execution_count": 10,
   "metadata": {},
   "outputs": [],
   "source": [
    "# Define new directories for the selected subset\n",
    "subset_base_dir = r'E:\\DATA\\dog_cat_CNN\\subset_train'"
   ]
  },
  {
   "cell_type": "code",
   "execution_count": 11,
   "metadata": {},
   "outputs": [],
   "source": [
    "import shutil\n",
    "\n",
    "# Copy selected dog images to the new directory\n",
    "for img_name in selected_dog_images:\n",
    "    src_path = os.path.join(dog_dir, img_name)\n",
    "    dst_path = os.path.join(subset_dog_dir, img_name)\n",
    "    shutil.copy(src_path, dst_path)\n",
    "\n",
    "# Copy selected cat images to the new directory\n",
    "for img_name in selected_cat_images:\n",
    "    src_path = os.path.join(cat_dir, img_name)\n",
    "    dst_path = os.path.join(subset_cat_dir, img_name)\n",
    "    shutil.copy(src_path, dst_path)"
   ]
  },
  {
   "cell_type": "code",
   "execution_count": 12,
   "metadata": {},
   "outputs": [],
   "source": [
    "def cutout(img, size=15, prob=0.3):\n",
    "    \"\"\"Randomly applies cutout augmentation with a given probability.\"\"\"\n",
    "    if np.random.rand() < prob:\n",
    "        return cutout(img, size)\n",
    "    return img"
   ]
  },
  {
   "cell_type": "code",
   "execution_count": 13,
   "metadata": {},
   "outputs": [],
   "source": [
    "datagen = ImageDataGenerator(validation_split=0.2,\n",
    "                                               rescale = 1./255,\n",
    "                                                shear_range = 0.2,\n",
    "                                                zoom_range = 0.2,\n",
    "                                                horizontal_flip = True)\n",
    "                                                #preprocessing_function=cutout)"
   ]
  },
  {
   "cell_type": "code",
   "execution_count": 14,
   "metadata": {},
   "outputs": [
    {
     "name": "stdout",
     "output_type": "stream",
     "text": [
      "Found 6000 images belonging to 2 classes.\n"
     ]
    }
   ],
   "source": [
    "training_set = datagen.flow_from_directory(\n",
    "    subset_base_dir,\n",
    "    target_size=(64, 64),  \n",
    "    batch_size=32,\n",
    "    class_mode='binary',\n",
    "    subset='training',  # Set as training data\n",
    "    shuffle=True,\n",
    "    seed=42\n",
    ")"
   ]
  },
  {
   "cell_type": "code",
   "execution_count": 15,
   "metadata": {},
   "outputs": [
    {
     "name": "stdout",
     "output_type": "stream",
     "text": [
      "Found 1500 images belonging to 2 classes.\n"
     ]
    }
   ],
   "source": [
    "test_set = datagen.flow_from_directory(\n",
    "    subset_base_dir,\n",
    "    target_size=(64, 64),  \n",
    "    batch_size=32,\n",
    "    class_mode='binary',\n",
    "    subset='validation',  \n",
    "    shuffle=True,\n",
    "    seed=42\n",
    ")"
   ]
  },
  {
   "cell_type": "code",
   "execution_count": 16,
   "metadata": {},
   "outputs": [
    {
     "name": "stdout",
     "output_type": "stream",
     "text": [
      "Epoch 1/10\n",
      "187/187 [==============================] - 84s 446ms/step - loss: 0.6674 - accuracy: 0.5893 - val_loss: 0.5972 - val_accuracy: 0.6889\n",
      "Epoch 2/10\n",
      "187/187 [==============================] - 49s 262ms/step - loss: 0.6072 - accuracy: 0.6676 - val_loss: 0.5621 - val_accuracy: 0.7174\n",
      "Epoch 3/10\n",
      "187/187 [==============================] - 46s 247ms/step - loss: 0.5587 - accuracy: 0.7093 - val_loss: 0.5223 - val_accuracy: 0.7439\n",
      "Epoch 4/10\n",
      "187/187 [==============================] - 45s 243ms/step - loss: 0.5253 - accuracy: 0.7341 - val_loss: 0.5056 - val_accuracy: 0.7452\n",
      "Epoch 5/10\n",
      "187/187 [==============================] - 47s 252ms/step - loss: 0.5067 - accuracy: 0.7513 - val_loss: 0.5115 - val_accuracy: 0.7405\n",
      "Epoch 6/10\n",
      "187/187 [==============================] - 50s 265ms/step - loss: 0.4788 - accuracy: 0.7761 - val_loss: 0.4855 - val_accuracy: 0.7527\n",
      "Epoch 7/10\n",
      "187/187 [==============================] - 49s 263ms/step - loss: 0.4592 - accuracy: 0.7805 - val_loss: 0.4939 - val_accuracy: 0.7602\n",
      "Epoch 8/10\n",
      "187/187 [==============================] - 54s 288ms/step - loss: 0.4426 - accuracy: 0.7879 - val_loss: 0.4599 - val_accuracy: 0.7717\n",
      "Epoch 9/10\n",
      "187/187 [==============================] - 49s 262ms/step - loss: 0.4243 - accuracy: 0.8026 - val_loss: 0.4551 - val_accuracy: 0.7799\n",
      "Epoch 10/10\n",
      "187/187 [==============================] - 50s 266ms/step - loss: 0.4015 - accuracy: 0.8122 - val_loss: 0.4738 - val_accuracy: 0.7643\n"
     ]
    }
   ],
   "source": [
    "model = classifier.fit(training_set,\n",
    "                         steps_per_epoch = 187,\n",
    "                         epochs = 10,\n",
    "                         validation_data = test_set,    \n",
    "                         validation_steps = 46)\n"
   ]
  },
  {
   "cell_type": "code",
   "execution_count": 17,
   "metadata": {},
   "outputs": [
    {
     "name": "stdout",
     "output_type": "stream",
     "text": [
      "{'cat': 0, 'dog': 1}\n",
      "{'cat': 0, 'dog': 1}\n"
     ]
    }
   ],
   "source": [
    "print(training_set.class_indices)\n",
    "print(test_set.class_indices)\n",
    "\n"
   ]
  },
  {
   "cell_type": "code",
   "execution_count": 18,
   "metadata": {},
   "outputs": [
    {
     "data": {
      "image/png": "[encoded data removed]",
      "text/plain": [
       "<Figure size 1200x400 with 2 Axes>"
      ]
     },
     "metadata": {},
     "output_type": "display_data"
    }
   ],
   "source": [
    "import matplotlib.pyplot as plt\n",
    "\n",
    "\n",
    "# Plotting the learning curve (accuracy vs. epochs)\n",
    "plt.figure(figsize=(12, 4))\n",
    "\n",
    "plt.subplot(1, 2, 1)\n",
    "plt.plot(model.history['accuracy'], label='Training Accuracy')\n",
    "plt.plot(model.history['val_accuracy'], label='Validation Accuracy')\n",
    "plt.title('Accuracy vs. Epochs')\n",
    "plt.xlabel('Epochs')\n",
    "plt.ylabel('Accuracy')\n",
    "plt.legend()\n",
    "\n",
    "# Plotting the loss curve (loss vs. epochs)\n",
    "plt.subplot(1, 2, 2)\n",
    "plt.plot(model.history['loss'], label='Training Loss')\n",
    "plt.plot(model.history['val_loss'], label='Validation Loss')\n",
    "plt.title('Loss vs. Epochs')\n",
    "plt.xlabel('Epochs')\n",
    "plt.ylabel('Loss')\n",
    "plt.legend()\n",
    "\n",
    "plt.tight_layout()\n",
    "plt.show()"
   ]
  },
  {
   "cell_type": "code",
   "execution_count": 19,
   "metadata": {},
   "outputs": [
    {
     "name": "stdout",
     "output_type": "stream",
     "text": [
      "Saved model to disk\n"
     ]
    },
    {
     "name": "stderr",
     "output_type": "stream",
     "text": [
      "c:\\Users\\navee\\anaconda3\\envs\\dog_cat_classification\\lib\\site-packages\\keras\\src\\engine\\training.py:3000: UserWarning: You are saving your model as an HDF5 file via `model.save()`. This file format is considered legacy. We recommend using instead the native Keras format, e.g. `model.save('my_model.keras')`.\n",
      "  saving_api.save_model(\n"
     ]
    }
   ],
   "source": [
    "classifier.save(\"model4.h5\")\n",
    "print(\"Saved model to disk\")"
   ]
  },
  {
   "cell_type": "code",
   "execution_count": 20,
   "metadata": {},
   "outputs": [],
   "source": [
    "from keras.models import load_model\n",
    "\n",
    "loaded_model = load_model(\"model4.h5\")"
   ]
  },
  {
   "cell_type": "code",
   "execution_count": 21,
   "metadata": {},
   "outputs": [
    {
     "name": "stdout",
     "output_type": "stream",
     "text": [
      "1/1 [==============================] - 0s 110ms/step\n",
      "cat\n"
     ]
    }
   ],
   "source": [
    "\n",
    "from keras.preprocessing import image\n",
    "test_image = image.load_img(r'E:\\DATA\\dog_cat_CNN\\test1\\test1\\11.jpg', target_size = (64, 64))\n",
    "test_image = image.img_to_array(test_image)\n",
    "test_image = np.expand_dims(test_image, axis = 0)\n",
    "result = loaded_model.predict(test_image)\n",
    "\n",
    "if result[0][0] == 1:\n",
    "    prediction = 'dog'\n",
    "    print(prediction)\n",
    "else:\n",
    "    prediction = 'cat'\n",
    "    print(prediction)"
   ]
  }
 ],
 "metadata": {
  "kernelspec": {
   "display_name": "dog_cat_classification",
   "language": "python",
   "name": "python3"
  },
  "language_info": {
   "codemirror_mode": {
    "name": "ipython",
    "version": 3
   },
   "file_extension": ".py",
   "mimetype": "text/x-python",
   "name": "python",
   "nbconvert_exporter": "python",
   "pygments_lexer": "ipython3",
   "version": "3.10.12"
  },
  "orig_nbformat": 4
 },
 "nbformat": 4,
 "nbformat_minor": 2
}
